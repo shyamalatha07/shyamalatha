{
 "cells": [
  {
   "cell_type": "code",
   "execution_count": 3,
   "id": "853f60b4",
   "metadata": {},
   "outputs": [],
   "source": [
    "import numpy as np"
   ]
  },
  {
   "cell_type": "code",
   "execution_count": 6,
   "id": "4bca76c2",
   "metadata": {},
   "outputs": [
    {
     "name": "stdout",
     "output_type": "stream",
     "text": [
      "['V' '47' '57' '6.0']\n",
      "<class 'numpy.ndarray'>\n",
      "<U32\n"
     ]
    }
   ],
   "source": [
    "x  = np.array([\"V\", 47, 57, 6.0])\n",
    "print(x)\n",
    "print(type(x))\n",
    "print(x.dtype)"
   ]
  },
  {
   "cell_type": "code",
   "execution_count": 8,
   "id": "f353cdde",
   "metadata": {},
   "outputs": [
    {
     "name": "stdout",
     "output_type": "stream",
     "text": [
      "[[20 30]\n",
      " [40 50]]\n",
      "<class 'numpy.ndarray'>\n",
      "(2, 2)\n"
     ]
    }
   ],
   "source": [
    "v1 = np.array([[20, 30], [40, 50]])\n",
    "print(v1)\n",
    "print(type(v1))\n",
    "print(v1.shape)"
   ]
  },
  {
   "cell_type": "code",
   "execution_count": 14,
   "id": "5d93b2d8",
   "metadata": {},
   "outputs": [
    {
     "name": "stdout",
     "output_type": "stream",
     "text": [
      "[[10 20]\n",
      " [30 40]]\n",
      "(2, 2)\n"
     ]
    }
   ],
   "source": [
    "#Reshaping an array\n",
    "a=np.array([10,20,30,40])\n",
    "b=a.reshape(2,2)\n",
    "print(b)\n",
    "print(b.shape)"
   ]
  },
  {
   "cell_type": "code",
   "execution_count": 15,
   "id": "69cc288d",
   "metadata": {},
   "outputs": [
    {
     "name": "stdout",
     "output_type": "stream",
     "text": [
      "[ 2  3  4  5  6  7  8  9 10 11 12 13 14 15 16 17 18 19 20 21 22 23 24 25\n",
      " 26 27 28 29]\n"
     ]
    },
    {
     "data": {
      "text/plain": [
       "numpy.ndarray"
      ]
     },
     "execution_count": 15,
     "metadata": {},
     "output_type": "execute_result"
    }
   ],
   "source": [
    "#create an array with arange function\n",
    "c = np.arange(2, 30)\n",
    "print(c)\n",
    "type(c)"
   ]
  },
  {
   "cell_type": "code",
   "execution_count": 18,
   "id": "43305eea",
   "metadata": {},
   "outputs": [
    {
     "data": {
      "text/plain": [
       "array([1.456 , 2.5678, 3.6789])"
      ]
     },
     "execution_count": 18,
     "metadata": {},
     "output_type": "execute_result"
    }
   ],
   "source": [
    "d = np.array([1.456, 2.5678, 3.6789])\n",
    "d"
   ]
  },
  {
   "cell_type": "code",
   "execution_count": 19,
   "id": "38cd1c79",
   "metadata": {},
   "outputs": [
    {
     "name": "stdout",
     "output_type": "stream",
     "text": [
      "[1.20664825 1.60243565 1.91804588]\n"
     ]
    }
   ],
   "source": [
    "print(np.sqrt(d))"
   ]
  },
  {
   "cell_type": "code",
   "execution_count": 20,
   "id": "340930bb",
   "metadata": {},
   "outputs": [
    {
     "name": "stdout",
     "output_type": "stream",
     "text": [
      "[1.21 1.6  1.92]\n"
     ]
    }
   ],
   "source": [
    "print(np.around(np.sqrt(d),2))"
   ]
  },
  {
   "cell_type": "code",
   "execution_count": 23,
   "id": "9f8c366e",
   "metadata": {},
   "outputs": [
    {
     "name": "stdout",
     "output_type": "stream",
     "text": [
      "[[ 2.  3.  4.  5.]\n",
      " [ 6.  7.  8. nan]]\n"
     ]
    },
    {
     "data": {
      "text/plain": [
       "dtype('float64')"
      ]
     },
     "execution_count": 23,
     "metadata": {},
     "output_type": "execute_result"
    }
   ],
   "source": [
    "a = np.array([[2,3,4,5],[6,7,8, np.NAN]])\n",
    "print(a)\n",
    "a.dtype"
   ]
  },
  {
   "cell_type": "code",
   "execution_count": 24,
   "id": "7cc06ddb",
   "metadata": {},
   "outputs": [
    {
     "name": "stdout",
     "output_type": "stream",
     "text": [
      "[['2.0' '3.0' '4.0' '5.0']\n",
      " ['6.0' '7.0' '8.0' 'nan']]\n"
     ]
    }
   ],
   "source": [
    "a_copy1 = a.astype(str)\n",
    "print(a_copy1)"
   ]
  },
  {
   "cell_type": "code",
   "execution_count": 26,
   "id": "73e0b03f",
   "metadata": {},
   "outputs": [
    {
     "data": {
      "text/plain": [
       "array([[2, 3, 4],\n",
       "       [4, 5, 6],\n",
       "       [6, 7, 8]])"
      ]
     },
     "execution_count": 26,
     "metadata": {},
     "output_type": "execute_result"
    }
   ],
   "source": [
    "#Mathemaetical operations on row and col\n",
    "a2 = np.array([[2,3,4],[4,5,6],[6,7,8]])\n",
    "a2"
   ]
  },
  {
   "cell_type": "code",
   "execution_count": 27,
   "id": "bcbcf8ce",
   "metadata": {},
   "outputs": [
    {
     "name": "stdout",
     "output_type": "stream",
     "text": [
      "[ 9 15 21]\n",
      "[12 15 18]\n"
     ]
    }
   ],
   "source": [
    "print(a2.sum(axis = 1))\n",
    "print(a2.sum(axis=0))"
   ]
  },
  {
   "cell_type": "code",
   "execution_count": null,
   "id": "80d8401f",
   "metadata": {},
   "outputs": [],
   "source": []
  },
  {
   "cell_type": "code",
   "execution_count": 29,
   "id": "3b05fc9d",
   "metadata": {},
   "outputs": [
    {
     "name": "stdout",
     "output_type": "stream",
     "text": [
      "[[0 4 5]\n",
      " [4 0 6]\n",
      " [6 7 0]]\n"
     ]
    }
   ],
   "source": [
    "#matrix\n",
    "a3 = np.array([[3,4,5],[4,5,6],[6,7,8]])\n",
    "a3\n",
    "np.fill_diagonal(a3,0)\n",
    "print(a3)"
   ]
  },
  {
   "cell_type": "code",
   "execution_count": 31,
   "id": "d01c12ea",
   "metadata": {},
   "outputs": [
    {
     "data": {
      "text/plain": [
       "array([[14, 17],\n",
       "       [23, 28]])"
      ]
     },
     "execution_count": 31,
     "metadata": {},
     "output_type": "execute_result"
    }
   ],
   "source": [
    "#defien two matrices\n",
    "A = np.array([[1,2],[2,3]])\n",
    "B = np.array([[4,5],[5,6]])\n",
    "C = np.matmul(A,B)\n",
    "C"
   ]
  },
  {
   "cell_type": "code",
   "execution_count": 32,
   "id": "a053b51c",
   "metadata": {},
   "outputs": [
    {
     "name": "stdout",
     "output_type": "stream",
     "text": [
      "[[1 2]\n",
      " [2 3]]\n",
      "[[4 5]\n",
      " [5 6]]\n"
     ]
    }
   ],
   "source": [
    "#transpose of the matrix\n",
    "print(A.T)\n",
    "print(B.T)"
   ]
  },
  {
   "cell_type": "code",
   "execution_count": 33,
   "id": "97fe8a39",
   "metadata": {},
   "outputs": [
    {
     "data": {
      "text/plain": [
       "array([[2, 3, 4],\n",
       "       [4, 5, 6],\n",
       "       [5, 6, 7],\n",
       "       [6, 7, 8]])"
      ]
     },
     "execution_count": 33,
     "metadata": {},
     "output_type": "execute_result"
    }
   ],
   "source": [
    "#accessing the array elements\n",
    "a = np.array([[2,3,4],[4,5,6],[5,6,7],[6,7,8]])\n",
    "a"
   ]
  },
  {
   "cell_type": "code",
   "execution_count": 34,
   "id": "707f710a",
   "metadata": {},
   "outputs": [
    {
     "data": {
      "text/plain": [
       "array([[3, 4],\n",
       "       [5, 6],\n",
       "       [6, 7],\n",
       "       [7, 8]])"
      ]
     },
     "execution_count": 34,
     "metadata": {},
     "output_type": "execute_result"
    }
   ],
   "source": [
    "#slicing of array\n",
    "a[:,1:]"
   ]
  },
  {
   "cell_type": "code",
   "execution_count": 44,
   "id": "685b4c06",
   "metadata": {},
   "outputs": [
    {
     "data": {
      "text/plain": [
       "array([[4, 5],\n",
       "       [5, 6]])"
      ]
     },
     "execution_count": 44,
     "metadata": {},
     "output_type": "execute_result"
    }
   ],
   "source": [
    "a[1:3,0:2]"
   ]
  },
  {
   "cell_type": "code",
   "execution_count": null,
   "id": "cb4732a2",
   "metadata": {},
   "outputs": [],
   "source": []
  },
  {
   "cell_type": "code",
   "execution_count": null,
   "id": "fb357d2b",
   "metadata": {},
   "outputs": [],
   "source": []
  }
 ],
 "metadata": {
  "kernelspec": {
   "display_name": "Python 3 (ipykernel)",
   "language": "python",
   "name": "python3"
  },
  "language_info": {
   "codemirror_mode": {
    "name": "ipython",
    "version": 3
   },
   "file_extension": ".py",
   "mimetype": "text/x-python",
   "name": "python",
   "nbconvert_exporter": "python",
   "pygments_lexer": "ipython3",
   "version": "3.11.5"
  }
 },
 "nbformat": 4,
 "nbformat_minor": 5
}
