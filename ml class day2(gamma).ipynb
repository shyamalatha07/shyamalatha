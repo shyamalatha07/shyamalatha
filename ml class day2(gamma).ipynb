{
 "cells": [
  {
   "cell_type": "code",
   "execution_count": 18,
   "id": "e022297a",
   "metadata": {},
   "outputs": [
    {
     "name": "stdout",
     "output_type": "stream",
     "text": [
      "[100, 200, 20]\n",
      "[53, 79, 89, 1007]\n"
     ]
    }
   ],
   "source": [
    "l = [100,53,200,79,20,89,1007]\n",
    "odd = []\n",
    "even = []\n",
    "for x in l:\n",
    "    if x%2 == 0:\n",
    "        even.append(x)\n",
    "    else:\n",
    "        odd.append(x)\n",
    "print(even)\n",
    "print(odd)\n"
   ]
  },
  {
   "cell_type": "code",
   "execution_count": null,
   "id": "3b0d4a1f",
   "metadata": {},
   "outputs": [],
   "source": [
    "l = [100,53,200,79,20,89,1007]"
   ]
  },
  {
   "cell_type": "code",
   "execution_count": 15,
   "id": "2a4a57aa",
   "metadata": {},
   "outputs": [
    {
     "name": "stdout",
     "output_type": "stream",
     "text": [
      "[100, 200, 20]\n"
     ]
    }
   ],
   "source": [
    "even = []\n",
    "for x in l:\n",
    "    if x%2 == 0:\n",
    "        even.append(x)\n",
    "print(even)"
   ]
  },
  {
   "cell_type": "code",
   "execution_count": 16,
   "id": "7f87102c",
   "metadata": {},
   "outputs": [
    {
     "name": "stdout",
     "output_type": "stream",
     "text": [
      "[53, 79, 89, 1007]\n"
     ]
    }
   ],
   "source": [
    "odd = []\n",
    "for y in l:\n",
    "    if y%2 != 0:\n",
    "        odd.append(y)\n",
    "print(odd)"
   ]
  },
  {
   "cell_type": "code",
   "execution_count": 1,
   "id": "e348c971",
   "metadata": {},
   "outputs": [
    {
     "name": "stdout",
     "output_type": "stream",
     "text": [
      "[['apple', 10], ['banana', 5], ['cherry', 10], ['dragon', 10], ['grape', 9]]\n"
     ]
    }
   ],
   "source": [
    "orders = [['apple' , 10], ['banana' , 5], ['cherry', 7], ['dragon', 10], ['grape', 9], ['apple', 20]]\n",
    "for each in orders:\n",
    "    if each[0] == \"cherry\":\n",
    "        each[1] = 10\n",
    "print(orders)"
   ]
  },
  {
   "cell_type": "code",
   "execution_count": 20,
   "id": "6682c733",
   "metadata": {},
   "outputs": [
    {
     "name": "stdout",
     "output_type": "stream",
     "text": [
      "[['orange', 25], ['mango', 25], ['kiwi', 50]]\n"
     ]
    }
   ],
   "source": [
    "I = [['orange', 20], ['mango', 12], ['kiwi', 15]]\n",
    "for iu in I:\n",
    "    if iu[0] == \"kiwi\":\n",
    "        iu[1] = 50\n",
    "print(I)"
   ]
  },
  {
   "cell_type": "code",
   "execution_count": 25,
   "id": "400a61fd",
   "metadata": {},
   "outputs": [
    {
     "name": "stdout",
     "output_type": "stream",
     "text": [
      "[['apple', 10], ['banana', 5], ['cherry', 7], ['dragon', 10], ['grape', 9], ['apple', 20], ['apple', 30]]\n",
      "[10, 20, 30]\n",
      "60\n"
     ]
    }
   ],
   "source": [
    "orders = [['apple', 10], ['banana', 5], ['cherry', 7], ['dragon', 10], ['grape', 9], ['apple', 20]]\n",
    "orders.append(['apple', 30])\n",
    "print(orders)\n",
    "total = []\n",
    "for each in orders:\n",
    "    if each[0] == \"apple\":\n",
    "        total.append(each[1])\n",
    "print(total)\n",
    "print(sum(total))"
   ]
  },
  {
   "cell_type": "code",
   "execution_count": 14,
   "id": "7e2ff10d",
   "metadata": {},
   "outputs": [
    {
     "name": "stdout",
     "output_type": "stream",
     "text": [
      "(3, 2, 7, 'V', True, 'purple', 'JK', 'TK')\n",
      "<class 'tuple'>\n"
     ]
    }
   ],
   "source": [
    "#TUPLES\n",
    "t1 = (3, 2, 7, \"V\", True ,\"purple\", \"JK\",\"TK\")\n",
    "print(t1)\n",
    "print (type(t1))"
   ]
  },
  {
   "cell_type": "code",
   "execution_count": 17,
   "id": "e20eef68",
   "metadata": {},
   "outputs": [
    {
     "name": "stdout",
     "output_type": "stream",
     "text": [
      "('V', True, 'purple', 'JK')\n"
     ]
    }
   ],
   "source": [
    "print(t1[3:7])"
   ]
  },
  {
   "cell_type": "code",
   "execution_count": 18,
   "id": "fa86fd58",
   "metadata": {},
   "outputs": [
    {
     "name": "stdout",
     "output_type": "stream",
     "text": [
      "('purple', 'JK', 'TK')\n"
     ]
    }
   ],
   "source": [
    "print(t1[5:])"
   ]
  },
  {
   "cell_type": "code",
   "execution_count": 20,
   "id": "de342922",
   "metadata": {
    "scrolled": false
   },
   "outputs": [
    {
     "data": {
      "text/plain": [
       "('V', True, 'purple', 'JK', 'TK')"
      ]
     },
     "execution_count": 20,
     "metadata": {},
     "output_type": "execute_result"
    }
   ],
   "source": [
    "t1[3:]"
   ]
  },
  {
   "cell_type": "code",
   "execution_count": 21,
   "id": "311f8881",
   "metadata": {},
   "outputs": [
    {
     "data": {
      "text/plain": [
       "7"
      ]
     },
     "execution_count": 21,
     "metadata": {},
     "output_type": "execute_result"
    }
   ],
   "source": [
    "t1.index(\"TK\")"
   ]
  },
  {
   "cell_type": "code",
   "execution_count": 23,
   "id": "f9303277",
   "metadata": {},
   "outputs": [
    {
     "data": {
      "text/plain": [
       "3"
      ]
     },
     "execution_count": 23,
     "metadata": {},
     "output_type": "execute_result"
    }
   ],
   "source": [
    "t2 = (7, 3, 7, 5, 6, 7, 10)\n",
    "t2.count(7)"
   ]
  },
  {
   "cell_type": "code",
   "execution_count": 1,
   "id": "cf948707",
   "metadata": {},
   "outputs": [
    {
     "data": {
      "text/plain": [
       "['__class__',\n",
       " '__class_getitem__',\n",
       " '__contains__',\n",
       " '__delattr__',\n",
       " '__delitem__',\n",
       " '__dir__',\n",
       " '__doc__',\n",
       " '__eq__',\n",
       " '__format__',\n",
       " '__ge__',\n",
       " '__getattribute__',\n",
       " '__getitem__',\n",
       " '__getstate__',\n",
       " '__gt__',\n",
       " '__hash__',\n",
       " '__init__',\n",
       " '__init_subclass__',\n",
       " '__ior__',\n",
       " '__iter__',\n",
       " '__le__',\n",
       " '__len__',\n",
       " '__lt__',\n",
       " '__ne__',\n",
       " '__new__',\n",
       " '__or__',\n",
       " '__reduce__',\n",
       " '__reduce_ex__',\n",
       " '__repr__',\n",
       " '__reversed__',\n",
       " '__ror__',\n",
       " '__setattr__',\n",
       " '__setitem__',\n",
       " '__sizeof__',\n",
       " '__str__',\n",
       " '__subclasshook__',\n",
       " 'clear',\n",
       " 'copy',\n",
       " 'fromkeys',\n",
       " 'get',\n",
       " 'items',\n",
       " 'keys',\n",
       " 'pop',\n",
       " 'popitem',\n",
       " 'setdefault',\n",
       " 'update',\n",
       " 'values']"
      ]
     },
     "execution_count": 1,
     "metadata": {},
     "output_type": "execute_result"
    }
   ],
   "source": [
    "#DICTIONARIES\n",
    "dir(dict)"
   ]
  },
  {
   "cell_type": "code",
   "execution_count": 8,
   "id": "ec59d070",
   "metadata": {},
   "outputs": [],
   "source": [
    "scores = {\"virat\": 90,\n",
    "          \"Rohit\": 100,\n",
    "          \"Rahul\": 70,\n",
    "          \"Hardik\": 49,\n",
    "          \"Gill\" : 89,\n",
    "          \"Jadeja\": 45,\n",
    "          \"kishan\": 48,\n",
    "}"
   ]
  },
  {
   "cell_type": "code",
   "execution_count": 9,
   "id": "bdf57a0c",
   "metadata": {},
   "outputs": [
    {
     "data": {
      "text/plain": [
       "{'virat': 90,\n",
       " 'Rohit': 100,\n",
       " 'Rahul': 70,\n",
       " 'Hardik': 49,\n",
       " 'Gill': 89,\n",
       " 'Jadeja': 45,\n",
       " 'kishan': 48,\n",
       " 'aswin': 47}"
      ]
     },
     "execution_count": 9,
     "metadata": {},
     "output_type": "execute_result"
    }
   ],
   "source": [
    "scores[\"aswin\"] = 47\n",
    "scores"
   ]
  },
  {
   "cell_type": "code",
   "execution_count": 10,
   "id": "61cc1219",
   "metadata": {},
   "outputs": [
    {
     "data": {
      "text/plain": [
       "{'virat': 90,\n",
       " 'Rohit': 100,\n",
       " 'Rahul': 70,\n",
       " 'Hardik': 49,\n",
       " 'Gill': 89,\n",
       " 'Jadeja': 50,\n",
       " 'kishan': 48,\n",
       " 'aswin': 47}"
      ]
     },
     "execution_count": 10,
     "metadata": {},
     "output_type": "execute_result"
    }
   ],
   "source": [
    "scores.update({\"Jadeja\":50})\n",
    "scores"
   ]
  },
  {
   "cell_type": "code",
   "execution_count": 14,
   "id": "eee88912",
   "metadata": {},
   "outputs": [
    {
     "data": {
      "text/plain": [
       "{'virat': 90,\n",
       " 'Rohit': 100,\n",
       " 'Rahul': 70,\n",
       " 'Hardik': 58,\n",
       " 'Gill': 89,\n",
       " 'Jadeja': 50,\n",
       " 'kishan': 48,\n",
       " 'aswin': 47,\n",
       " 'Siraj': 54}"
      ]
     },
     "execution_count": 14,
     "metadata": {},
     "output_type": "execute_result"
    }
   ],
   "source": [
    "scores.update({\"Hardik\": 58, 'Siraj': 54})\n",
    "scores"
   ]
  },
  {
   "cell_type": "code",
   "execution_count": 16,
   "id": "163c22bf",
   "metadata": {},
   "outputs": [
    {
     "data": {
      "text/plain": [
       "{'virat': 90,\n",
       " 'Rohit': 100,\n",
       " 'Rahul': 70,\n",
       " 'Hardik': 58,\n",
       " 'Gill': 89,\n",
       " 'Jadeja': 50,\n",
       " 'kishan': 48,\n",
       " 'aswin': 47,\n",
       " 'Siraj': 54}"
      ]
     },
     "execution_count": 16,
     "metadata": {},
     "output_type": "execute_result"
    }
   ],
   "source": [
    "scores.setdefault(\"Gill\", 60)\n",
    "scores"
   ]
  },
  {
   "cell_type": "code",
   "execution_count": 17,
   "id": "b2e91de7",
   "metadata": {},
   "outputs": [
    {
     "data": {
      "text/plain": [
       "{'virat': 90,\n",
       " 'Rohit': 100,\n",
       " 'Rahul': 70,\n",
       " 'Hardik': 58,\n",
       " 'Gill': 89,\n",
       " 'Jadeja': 50,\n",
       " 'kishan': 48,\n",
       " 'aswin': 47,\n",
       " 'Siraj': 54,\n",
       " 'Rahane': 50}"
      ]
     },
     "execution_count": 17,
     "metadata": {},
     "output_type": "execute_result"
    }
   ],
   "source": [
    "scores.setdefault(\"Rahane\", 50)\n",
    "scores"
   ]
  },
  {
   "cell_type": "code",
   "execution_count": 18,
   "id": "0582079f",
   "metadata": {},
   "outputs": [
    {
     "data": {
      "text/plain": [
       "{'virat': 90,\n",
       " 'Rohit': 100,\n",
       " 'Rahul': 70,\n",
       " 'Hardik': 58,\n",
       " 'Gill': 89,\n",
       " 'Jadeja': 50,\n",
       " 'kishan': 48,\n",
       " 'aswin': 47,\n",
       " 'Siraj': 54}"
      ]
     },
     "execution_count": 18,
     "metadata": {},
     "output_type": "execute_result"
    }
   ],
   "source": [
    "scores.pop(\"Rahane\",50)\n",
    "scores"
   ]
  },
  {
   "cell_type": "code",
   "execution_count": 19,
   "id": "9955b830",
   "metadata": {},
   "outputs": [
    {
     "data": {
      "text/plain": [
       "89"
      ]
     },
     "execution_count": 19,
     "metadata": {},
     "output_type": "execute_result"
    }
   ],
   "source": [
    "scores.get(\"Gill\")"
   ]
  },
  {
   "cell_type": "code",
   "execution_count": 25,
   "id": "f64b162c",
   "metadata": {},
   "outputs": [
    {
     "data": {
      "text/plain": [
       "{'A': 7, 'B': 7, 'c': 7, 'D': 7}"
      ]
     },
     "execution_count": 25,
     "metadata": {},
     "output_type": "execute_result"
    }
   ],
   "source": [
    "# use of fromkeys() to create a new dict\n",
    "l1 = [\"A\",\"B\",\"c\",\"D\"]\n",
    "b = dict.fromkeys(l1,7)\n",
    "b"
   ]
  },
  {
   "cell_type": "code",
   "execution_count": null,
   "id": "c00a86a4",
   "metadata": {},
   "outputs": [],
   "source": [
    "scores.keys()\n",
    "scores.values()\n"
   ]
  },
  {
   "cell_type": "code",
   "execution_count": 31,
   "id": "ac2ada6b",
   "metadata": {},
   "outputs": [
    {
     "ename": "SyntaxError",
     "evalue": "cannot assign to function call here. Maybe you meant '==' instead of '='? (922841042.py, line 3)",
     "output_type": "error",
     "traceback": [
      "\u001b[1;36m  Cell \u001b[1;32mIn[31], line 3\u001b[1;36m\u001b[0m\n\u001b[1;33m    scores(k) = 60\u001b[0m\n\u001b[1;37m    ^\u001b[0m\n\u001b[1;31mSyntaxError\u001b[0m\u001b[1;31m:\u001b[0m cannot assign to function call here. Maybe you meant '==' instead of '='?\n"
     ]
    }
   ],
   "source": [
    "for k in scores.keys():\n",
    "    if k == \"Hardik\":\n",
    "        scores(k) = 60\n",
    "scores"
   ]
  },
  {
   "cell_type": "code",
   "execution_count": 30,
   "id": "36b007d0",
   "metadata": {},
   "outputs": [
    {
     "name": "stdout",
     "output_type": "stream",
     "text": [
      "[90, 100, 70, 58, 89, 50, 48, 47, 54]\n",
      "Total Score:  606\n"
     ]
    }
   ],
   "source": [
    "scores_l = []\n",
    "for v in scores.values():\n",
    "    scores_l.append(v)\n",
    "print(scores_l)\n",
    "print(\"Total Score: \", sum(scores_l))"
   ]
  },
  {
   "cell_type": "code",
   "execution_count": null,
   "id": "db2cd714",
   "metadata": {},
   "outputs": [],
   "source": []
  }
 ],
 "metadata": {
  "kernelspec": {
   "display_name": "Python 3 (ipykernel)",
   "language": "python",
   "name": "python3"
  },
  "language_info": {
   "codemirror_mode": {
    "name": "ipython",
    "version": 3
   },
   "file_extension": ".py",
   "mimetype": "text/x-python",
   "name": "python",
   "nbconvert_exporter": "python",
   "pygments_lexer": "ipython3",
   "version": "3.11.5"
  }
 },
 "nbformat": 4,
 "nbformat_minor": 5
}
